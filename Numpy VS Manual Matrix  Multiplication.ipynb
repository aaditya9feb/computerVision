{
 "cells": [
  {
   "cell_type": "markdown",
   "id": "0f4078d5",
   "metadata": {},
   "source": [
    "\n",
    "# Basics of numpy \n",
    "\n",
    "```\n",
    "import numpy as np\n",
    "```\n",
    "## What is an “array”?\n",
    "In computer programming, an array is a structure for storing and retrieving data. We often talk about an array as if it were a grid in space, with each cell storing one element of the data. For instance, if each element of the data were a number, we might visualize a “one-dimensional” array like a list:\n",
    "\n",
    " \n",
    "\n"
   ]
  },
  {
   "cell_type": "markdown",
   "id": "64394c87",
   "metadata": {},
   "source": [
    "![alt text](<Screenshot 2025-07-11 155316.png>)"
   ]
  },
  {
   "cell_type": "code",
   "execution_count": 3,
   "id": "c0508254",
   "metadata": {},
   "outputs": [
    {
     "name": "stdout",
     "output_type": "stream",
     "text": [
      "[1 2 3 4 5 6]\n"
     ]
    }
   ],
   "source": [
    "import numpy as np\n",
    "a=np.array([1,2,3,4,5,6])\n",
    "print(a)"
   ]
  },
  {
   "cell_type": "markdown",
   "id": "14820fd6",
   "metadata": {},
   "source": [
    "\n",
    "Most NumPy arrays have some restrictions. For instance:\n",
    "\n",
    "- All elements of the array must be of the same type of data.\n",
    "\n",
    "- Once created, the total size of the array can’t change.\n",
    "\n",
    "- The shape must be “rectangular”, not “jagged”; e.g., each row of a two-dimensional array must have the same number of columns.\n"
   ]
  },
  {
   "cell_type": "markdown",
   "id": "6db4805f",
   "metadata": {},
   "source": [
    "# Matrix multiplication using numpy"
   ]
  },
  {
   "cell_type": "code",
   "execution_count": 5,
   "id": "320cc7d2",
   "metadata": {},
   "outputs": [
    {
     "name": "stdout",
     "output_type": "stream",
     "text": [
      "Result using np.dot():\n",
      " [[19 22]\n",
      " [43 50]]\n",
      "\n",
      "Result using the @ operator:\n",
      " [[19 22]\n",
      " [43 50]]\n",
      "\n",
      "Result using np.matmul():\n",
      " [[19 22]\n",
      " [43 50]]\n"
     ]
    }
   ],
   "source": [
    "import numpy as np\n",
    "\n",
    "# Define two matrices\n",
    "matrix_a = np.array([[1, 2], [3, 4]])\n",
    "matrix_b = np.array([[5, 6], [7, 8]])\n",
    "\n",
    "product_1 = np.dot(matrix_a, matrix_b)\n",
    "print(\"Result using np.dot():\\n\", product_1)\n",
    "\n",
    "# Method 2: Using the @ operator\n",
    "product_2 = matrix_a @ matrix_b\n",
    "print(\"\\nResult using the @ operator:\\n\", product_2)\n",
    "\n",
    "# Method 3: Using np.matmul()\n",
    "product_3 = np.matmul(matrix_a, matrix_b)\n",
    "print(\"\\nResult using np.matmul():\\n\", product_3)\n",
    "\n"
   ]
  },
  {
   "cell_type": "markdown",
   "id": "44ecd2ae",
   "metadata": {},
   "source": [
    "# Matric multiplication manual checker"
   ]
  },
  {
   "cell_type": "code",
   "execution_count": 6,
   "id": "1923dd3e",
   "metadata": {},
   "outputs": [
    {
     "name": "stdout",
     "output_type": "stream",
     "text": [
      "2 2\n",
      "True\n"
     ]
    }
   ],
   "source": [
    "l1 = [[1,2],[3,4]]\n",
    "a = len(l1)\n",
    "b = len(l1[0])\n",
    "print(a,b)\n",
    "print(a==b)"
   ]
  },
  {
   "cell_type": "markdown",
   "id": "57b5bc27",
   "metadata": {},
   "source": [
    "# Function to check if the matrix is jagged\n",
    "\n",
    "“jagged”; e.g., each row of a two-dimensional array must have the different number of columns.\n"
   ]
  },
  {
   "cell_type": "code",
   "execution_count": 7,
   "id": "6f0786bf",
   "metadata": {},
   "outputs": [
    {
     "name": "stdout",
     "output_type": "stream",
     "text": [
      "0 1\n"
     ]
    }
   ],
   "source": [
    "def checkNotJagged(matrix):\n",
    "    cloumnLength = 0\n",
    "    for i in range(len(matrix)):\n",
    "        if i == 0:\n",
    "            cloumnLength = len(matrix[0])\n",
    "            continue\n",
    "        if len(matrix[i]) != cloumnLength:\n",
    "            return 1 \n",
    "    return 0 \n",
    "\n",
    "l1 = [[1,2],[1,2]]\n",
    "a = checkNotJagged(l1)\n",
    "l2= [[1,2],[2]]\n",
    "b = checkNotJagged(l2)\n",
    "print (a,b)"
   ]
  },
  {
   "cell_type": "markdown",
   "id": "5801e721",
   "metadata": {},
   "source": [
    "# Code to multiply two matrices \n",
    "\n",
    "# Very basic code \n",
    "\n",
    "It does not have \n",
    "- any checks for if the matrix is jagged\n",
    "- it uses predefined inputs\n",
    "- the output matrix is predefined"
   ]
  },
  {
   "cell_type": "code",
   "execution_count": null,
   "id": "7f086ed7",
   "metadata": {},
   "outputs": [],
   "source": [
    "matrix_1 = [[1,2],[3,4]]\n",
    "matrix_2 = [[5,6],[7,8]]\n",
    "\n",
    "result = [[0,0],[0,0]]\n",
    "\n",
    "for i in range(2):\n",
    "    for j in range (2):\n",
    "        result[i][j] =  "
   ]
  }
 ],
 "metadata": {
  "kernelspec": {
   "display_name": "Python 3",
   "language": "python",
   "name": "python3"
  },
  "language_info": {
   "codemirror_mode": {
    "name": "ipython",
    "version": 3
   },
   "file_extension": ".py",
   "mimetype": "text/x-python",
   "name": "python",
   "nbconvert_exporter": "python",
   "pygments_lexer": "ipython3",
   "version": "3.12.4"
  }
 },
 "nbformat": 4,
 "nbformat_minor": 5
}
